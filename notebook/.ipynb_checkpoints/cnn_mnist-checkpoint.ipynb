{
 "cells": [
  {
   "cell_type": "code",
   "execution_count": 2,
   "metadata": {
    "collapsed": true
   },
   "outputs": [],
   "source": [
    "import cupy\n",
    "import chainer\n",
    "import chainer.functions as F\n",
    "import chainer.links as L\n",
    "from chainer import Variable, optimizers, Chain"
   ]
  },
  {
   "cell_type": "code",
   "execution_count": 3,
   "metadata": {
    "collapsed": true
   },
   "outputs": [],
   "source": [
    "# データセットを読み込む。trainにトレーニングデータ。testにテストデータ\n",
    "train, test = chainer.datasets.get_mnist(ndim=3)"
   ]
  },
  {
   "cell_type": "code",
   "execution_count": 4,
   "metadata": {
    "collapsed": true
   },
   "outputs": [],
   "source": [
    "class Model(Chain):\n",
    "    def __init__(self):\n",
    "        super(Model, self).__init__(\n",
    "            # たたみ込み層\n",
    "            conv1 = L.Convolution2D(1, 20, 5),\n",
    "            conv2 = L.Convolution2D(20, 50, 5),\n",
    "            # 多層パーセプトロン\n",
    "            fc1 = L.Linear(800, 500),\n",
    "            fc2 = L.Linear(500, 10),\n",
    "        )\n",
    "    def __call__(self, x, train = True):\n",
    "        #ここでネットワークを作っている\n",
    "        cv1 = self.conv1(x)\n",
    "        relu = F.relu(cv1)\n",
    "        h = F.max_pooling_2d(relu, 2)\n",
    "        h = F.max_pooling_2d(F.relu(self.conv2(h)), 2)\n",
    "        h = F.dropout(F.relu(self.fc1(h)), train = train)\n",
    "        return self.fc2(h)"
   ]
  },
  {
   "cell_type": "code",
   "execution_count": 5,
   "metadata": {
    "collapsed": true
   },
   "outputs": [],
   "source": [
    "# パラメータ付き関数 誤差の計算をしてくれる\n",
    "model = L.Classifier(Model())"
   ]
  },
  {
   "cell_type": "code",
   "execution_count": 6,
   "metadata": {
    "collapsed": false
   },
   "outputs": [
    {
     "data": {
      "text/plain": [
       "<chainer.links.model.classifier.Classifier at 0x7fdcbfab7b70>"
      ]
     },
     "execution_count": 6,
     "metadata": {},
     "output_type": "execute_result"
    }
   ],
   "source": [
    "# GPUの使用を設定\n",
    "model.to_gpu()"
   ]
  },
  {
   "cell_type": "code",
   "execution_count": 9,
   "metadata": {
    "collapsed": true
   },
   "outputs": [],
   "source": [
    "# 最適化関数の設定\n",
    "optimizer = optimizers.MomentumSGD(lr=0.01, momentum=0.9)\n",
    "optimizer.setup(model)\n",
    "\n",
    "batchsize = 1000"
   ]
  },
  {
   "cell_type": "code",
   "execution_count": 10,
   "metadata": {
    "collapsed": true
   },
   "outputs": [],
   "source": [
    "def cov(batch, batchsize):\n",
    "    x = []\n",
    "    t = []\n",
    "    for j in range(batchsize):\n",
    "        x.append(batch[j][0])\n",
    "        t.append(batch[j][1])\n",
    "    return Variable(cupy.asarray(x)), Variable(cupy.asarray(t))"
   ]
  },
  {
   "cell_type": "code",
   "execution_count": 11,
   "metadata": {
    "collapsed": false
   },
   "outputs": [
    {
     "name": "stdout",
     "output_type": "stream",
     "text": [
      "0 0.3550693690776825\n",
      "1 0.23784688115119934\n",
      "2 0.19390714168548584\n",
      "3 0.12472762167453766\n",
      "4 0.12114068865776062\n",
      "5 0.14460453391075134\n",
      "6 0.08831039816141129\n",
      "7 0.07727676630020142\n",
      "8 0.08243895322084427\n",
      "9 0.07266969233751297\n",
      "10 0.04918849840760231\n",
      "11 0.052300624549388885\n",
      "12 0.07235275208950043\n",
      "13 0.04801568388938904\n",
      "14 0.06142505258321762\n",
      "15 0.07190575450658798\n",
      "16 0.041466668248176575\n",
      "17 0.06842020153999329\n",
      "18 0.05234746262431145\n",
      "19 0.05528445914387703\n"
     ]
    }
   ],
   "source": [
    "for n in range(20):\n",
    "    for i in chainer.iterators.SerialIterator(train, batchsize, repeat = False):\n",
    "        x, t = cov(i, batchsize)\n",
    "\n",
    "        # 購買を０に\n",
    "        model.zerograds()\n",
    "\n",
    "        # 損失を計算\n",
    "        loss = model(x, t)\n",
    "\n",
    "        # 逆伝搬\n",
    "        loss.backward()\n",
    "\n",
    "        # 最適化関数の更新\n",
    "        optimizer.update()\n",
    "\n",
    "    i = chainer.iterators.SerialIterator(test, batchsize, repeat = False).next()\n",
    "    x,t = cov(i, batchsize)\n",
    "    loss = model(x, t)\n",
    "    print(n, loss.data)\n"
   ]
  },
  {
   "cell_type": "code",
   "execution_count": null,
   "metadata": {
    "collapsed": true
   },
   "outputs": [],
   "source": []
  }
 ],
 "metadata": {
  "anaconda-cloud": {},
  "kernelspec": {
   "display_name": "Python [conda root]",
   "language": "python",
   "name": "conda-root-py"
  },
  "language_info": {
   "codemirror_mode": {
    "name": "ipython",
    "version": 3
   },
   "file_extension": ".py",
   "mimetype": "text/x-python",
   "name": "python",
   "nbconvert_exporter": "python",
   "pygments_lexer": "ipython3",
   "version": "3.5.2"
  }
 },
 "nbformat": 4,
 "nbformat_minor": 1
}
